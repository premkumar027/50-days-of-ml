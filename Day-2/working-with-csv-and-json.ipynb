{
 "cells": [
  {
   "cell_type": "code",
   "execution_count": 1,
   "id": "35bd242e",
   "metadata": {},
   "outputs": [],
   "source": [
    "import numpy as np\n",
    "import pandas as pd\n",
    "import matplotlib.pyplot as plt\n",
    "import seaborn as sns"
   ]
  },
  {
   "cell_type": "markdown",
   "id": "8601674e",
   "metadata": {},
   "source": [
    "### Working with csv and json file\n",
    "You can use most of the csv commands to json also"
   ]
  },
  {
   "cell_type": "markdown",
   "id": "83b3c967",
   "metadata": {},
   "source": [
    "#### ✅ Method 1: If you have data"
   ]
  },
  {
   "cell_type": "code",
   "execution_count": 3,
   "id": "b970af28",
   "metadata": {},
   "outputs": [],
   "source": [
    "# df = pd.read_csv(\"code.csv\")"
   ]
  },
  {
   "cell_type": "markdown",
   "id": "d7735936",
   "metadata": {},
   "source": [
    "#### ✅ Method 2: If you have url of csv raw file (like githbub)"
   ]
  },
  {
   "cell_type": "code",
   "execution_count": null,
   "id": "24e0297e",
   "metadata": {},
   "outputs": [],
   "source": [
    "# import requests\n",
    "# from io import StringIO\n",
    "\n",
    "# url = \"put your url here\"\n",
    "# headers = {\n",
    "#     \"User-Agent\": \"Mozilla/5.0 (Macintosh; Intel Mac OS X 10.14; rv:66.0) Gecko/20100101 Firefox/66.0\"\n",
    "# }\n",
    "\n",
    "# req = requests.get(url, headers=headers)\n",
    "# data = StringIO(req.text)\n",
    "\n",
    "# import pandas as pd\n",
    "# df = pd.read_csv(data)\n"
   ]
  },
  {
   "cell_type": "markdown",
   "id": "cd880fbb",
   "metadata": {},
   "source": [
    "#### ✅ Method 3: sep parameter, dealing with .tsv file"
   ]
  },
  {
   "cell_type": "code",
   "execution_count": null,
   "id": "85457d5b",
   "metadata": {},
   "outputs": [],
   "source": [
    "# df = pd.read_csv('hello.csv', sep='\\t')"
   ]
  },
  {
   "cell_type": "markdown",
   "id": "2e0c068d",
   "metadata": {},
   "source": [
    "#### ✅ Method 4: If you do not have features and first row is being used as feature"
   ]
  },
  {
   "cell_type": "code",
   "execution_count": 4,
   "id": "05d3ae6f",
   "metadata": {},
   "outputs": [],
   "source": [
    "# df = pd.read_csv(\"hello.csv\", names=[\"col1\", \"col2\", \"col3\"])"
   ]
  },
  {
   "cell_type": "markdown",
   "id": "519285c9",
   "metadata": {},
   "source": [
    "#### ✅ Method 5: Make any column as an index"
   ]
  },
  {
   "cell_type": "code",
   "execution_count": 6,
   "id": "57e211b7",
   "metadata": {},
   "outputs": [],
   "source": [
    "# df = pd.read_csv(\"hello.csv\", index_col=\"customer_id\")"
   ]
  },
  {
   "cell_type": "markdown",
   "id": "07dbabcc",
   "metadata": {},
   "source": [
    "#### ✅ Method 6: If your feature name is in the row "
   ]
  },
  {
   "cell_type": "code",
   "execution_count": 8,
   "id": "a648643c",
   "metadata": {},
   "outputs": [],
   "source": [
    "# pd.read_csv(\"hello.csv\", header=1)"
   ]
  },
  {
   "cell_type": "markdown",
   "id": "e178af23",
   "metadata": {},
   "source": [
    "#### ✅ Method 7: If you want to take only selected col from the beginning"
   ]
  },
  {
   "cell_type": "code",
   "execution_count": 9,
   "id": "d558ac88",
   "metadata": {},
   "outputs": [],
   "source": [
    "# pd.read_csv(\"hello.csv\", usecols=[\"col1\", \"col2\", \"col3\"])"
   ]
  },
  {
   "cell_type": "markdown",
   "id": "2fe76bd4",
   "metadata": {},
   "source": [
    "#### ✅ Method 8: To get only n-number of rows"
   ]
  },
  {
   "cell_type": "code",
   "execution_count": 10,
   "id": "188abf0d",
   "metadata": {},
   "outputs": [],
   "source": [
    "# pd.read_csv(\"hello.csv\", nrows=100)"
   ]
  },
  {
   "cell_type": "markdown",
   "id": "55c58c45",
   "metadata": {},
   "source": [
    "#### ✅ Method 9: If your data is not loading and showing some encoding error, then search for their encoding and mention it in the code or edit it in some encoding editor"
   ]
  },
  {
   "cell_type": "code",
   "execution_count": null,
   "id": "7f09c805",
   "metadata": {},
   "outputs": [],
   "source": [
    "# this is random encoding for example, you can change it to \"utf-8\", \"latin1\", etc.\n",
    "# pd.read_csv(\"hello.csv\", encoding=\"latin1\")"
   ]
  },
  {
   "cell_type": "markdown",
   "id": "4ba406b1",
   "metadata": {},
   "source": [
    "#### ✅ Method 10: If you get Parser error"
   ]
  },
  {
   "cell_type": "code",
   "execution_count": 13,
   "id": "47557d07",
   "metadata": {},
   "outputs": [],
   "source": [
    "# pd.read_csv(\"hello.csv\", error_bad_lines=False)"
   ]
  },
  {
   "cell_type": "markdown",
   "id": "0335df2f",
   "metadata": {},
   "source": [
    "#### ✅ Method 11: If your target column is in float 0.0 and 1.0 and you want to change it into int"
   ]
  },
  {
   "cell_type": "code",
   "execution_count": 14,
   "id": "d5b00287",
   "metadata": {},
   "outputs": [],
   "source": [
    "# pd.read_csv(\"hello.csv\", dtype={\"target\":int})"
   ]
  },
  {
   "cell_type": "markdown",
   "id": "4a77e049",
   "metadata": {},
   "source": [
    "#### ✅ Method 12: If you get date in string format "
   ]
  },
  {
   "cell_type": "code",
   "execution_count": 15,
   "id": "712559da",
   "metadata": {},
   "outputs": [],
   "source": [
    "# pd.read_csv(\"hello.csv\", parse_dates=['date'])"
   ]
  },
  {
   "cell_type": "markdown",
   "id": "d39eed2f",
   "metadata": {},
   "source": [
    "#### ✅ Method 13: If you want to convert let team name like Royal Challengers Benguluru, Chennai Super Kings to RCB and CSK in any column"
   ]
  },
  {
   "cell_type": "code",
   "execution_count": 19,
   "id": "b45e75fe",
   "metadata": {},
   "outputs": [
    {
     "data": {
      "text/html": [
       "<div>\n",
       "<style scoped>\n",
       "    .dataframe tbody tr th:only-of-type {\n",
       "        vertical-align: middle;\n",
       "    }\n",
       "\n",
       "    .dataframe tbody tr th {\n",
       "        vertical-align: top;\n",
       "    }\n",
       "\n",
       "    .dataframe thead th {\n",
       "        text-align: right;\n",
       "    }\n",
       "</style>\n",
       "<table border=\"1\" class=\"dataframe\">\n",
       "  <thead>\n",
       "    <tr style=\"text-align: right;\">\n",
       "      <th></th>\n",
       "      <th>id</th>\n",
       "      <th>city</th>\n",
       "      <th>date</th>\n",
       "      <th>player_of_match</th>\n",
       "      <th>venue</th>\n",
       "      <th>neutral_venue</th>\n",
       "      <th>team1</th>\n",
       "      <th>team2</th>\n",
       "      <th>toss_winner</th>\n",
       "      <th>toss_decision</th>\n",
       "      <th>winner</th>\n",
       "      <th>result</th>\n",
       "      <th>result_margin</th>\n",
       "      <th>eliminator</th>\n",
       "      <th>method</th>\n",
       "      <th>umpire1</th>\n",
       "      <th>umpire2</th>\n",
       "    </tr>\n",
       "  </thead>\n",
       "  <tbody>\n",
       "    <tr>\n",
       "      <th>0</th>\n",
       "      <td>335982</td>\n",
       "      <td>Bangalore</td>\n",
       "      <td>2008-04-18</td>\n",
       "      <td>BB McCullum</td>\n",
       "      <td>M Chinnaswamy Stadium</td>\n",
       "      <td>0</td>\n",
       "      <td>Royal Challengers Bangalore</td>\n",
       "      <td>Kolkata Knight Riders</td>\n",
       "      <td>Royal Challengers Bangalore</td>\n",
       "      <td>field</td>\n",
       "      <td>Kolkata Knight Riders</td>\n",
       "      <td>runs</td>\n",
       "      <td>140.0</td>\n",
       "      <td>N</td>\n",
       "      <td>NaN</td>\n",
       "      <td>Asad Rauf</td>\n",
       "      <td>RE Koertzen</td>\n",
       "    </tr>\n",
       "    <tr>\n",
       "      <th>1</th>\n",
       "      <td>335983</td>\n",
       "      <td>Chandigarh</td>\n",
       "      <td>2008-04-19</td>\n",
       "      <td>MEK Hussey</td>\n",
       "      <td>Punjab Cricket Association Stadium, Mohali</td>\n",
       "      <td>0</td>\n",
       "      <td>Kings XI Punjab</td>\n",
       "      <td>Chennai Super Kings</td>\n",
       "      <td>Chennai Super Kings</td>\n",
       "      <td>bat</td>\n",
       "      <td>Chennai Super Kings</td>\n",
       "      <td>runs</td>\n",
       "      <td>33.0</td>\n",
       "      <td>N</td>\n",
       "      <td>NaN</td>\n",
       "      <td>MR Benson</td>\n",
       "      <td>SL Shastri</td>\n",
       "    </tr>\n",
       "    <tr>\n",
       "      <th>2</th>\n",
       "      <td>335984</td>\n",
       "      <td>Delhi</td>\n",
       "      <td>2008-04-19</td>\n",
       "      <td>MF Maharoof</td>\n",
       "      <td>Feroz Shah Kotla</td>\n",
       "      <td>0</td>\n",
       "      <td>Delhi Daredevils</td>\n",
       "      <td>Rajasthan Royals</td>\n",
       "      <td>Rajasthan Royals</td>\n",
       "      <td>bat</td>\n",
       "      <td>Delhi Daredevils</td>\n",
       "      <td>wickets</td>\n",
       "      <td>9.0</td>\n",
       "      <td>N</td>\n",
       "      <td>NaN</td>\n",
       "      <td>Aleem Dar</td>\n",
       "      <td>GA Pratapkumar</td>\n",
       "    </tr>\n",
       "    <tr>\n",
       "      <th>3</th>\n",
       "      <td>335985</td>\n",
       "      <td>Mumbai</td>\n",
       "      <td>2008-04-20</td>\n",
       "      <td>MV Boucher</td>\n",
       "      <td>Wankhede Stadium</td>\n",
       "      <td>0</td>\n",
       "      <td>Mumbai Indians</td>\n",
       "      <td>Royal Challengers Bangalore</td>\n",
       "      <td>Mumbai Indians</td>\n",
       "      <td>bat</td>\n",
       "      <td>Royal Challengers Bangalore</td>\n",
       "      <td>wickets</td>\n",
       "      <td>5.0</td>\n",
       "      <td>N</td>\n",
       "      <td>NaN</td>\n",
       "      <td>SJ Davis</td>\n",
       "      <td>DJ Harper</td>\n",
       "    </tr>\n",
       "    <tr>\n",
       "      <th>4</th>\n",
       "      <td>335986</td>\n",
       "      <td>Kolkata</td>\n",
       "      <td>2008-04-20</td>\n",
       "      <td>DJ Hussey</td>\n",
       "      <td>Eden Gardens</td>\n",
       "      <td>0</td>\n",
       "      <td>Kolkata Knight Riders</td>\n",
       "      <td>Deccan Chargers</td>\n",
       "      <td>Deccan Chargers</td>\n",
       "      <td>bat</td>\n",
       "      <td>Kolkata Knight Riders</td>\n",
       "      <td>wickets</td>\n",
       "      <td>5.0</td>\n",
       "      <td>N</td>\n",
       "      <td>NaN</td>\n",
       "      <td>BF Bowden</td>\n",
       "      <td>K Hariharan</td>\n",
       "    </tr>\n",
       "  </tbody>\n",
       "</table>\n",
       "</div>"
      ],
      "text/plain": [
       "       id        city        date player_of_match  \\\n",
       "0  335982   Bangalore  2008-04-18     BB McCullum   \n",
       "1  335983  Chandigarh  2008-04-19      MEK Hussey   \n",
       "2  335984       Delhi  2008-04-19     MF Maharoof   \n",
       "3  335985      Mumbai  2008-04-20      MV Boucher   \n",
       "4  335986     Kolkata  2008-04-20       DJ Hussey   \n",
       "\n",
       "                                        venue  neutral_venue  \\\n",
       "0                       M Chinnaswamy Stadium              0   \n",
       "1  Punjab Cricket Association Stadium, Mohali              0   \n",
       "2                            Feroz Shah Kotla              0   \n",
       "3                            Wankhede Stadium              0   \n",
       "4                                Eden Gardens              0   \n",
       "\n",
       "                         team1                        team2  \\\n",
       "0  Royal Challengers Bangalore        Kolkata Knight Riders   \n",
       "1              Kings XI Punjab          Chennai Super Kings   \n",
       "2             Delhi Daredevils             Rajasthan Royals   \n",
       "3               Mumbai Indians  Royal Challengers Bangalore   \n",
       "4        Kolkata Knight Riders              Deccan Chargers   \n",
       "\n",
       "                   toss_winner toss_decision                       winner  \\\n",
       "0  Royal Challengers Bangalore         field        Kolkata Knight Riders   \n",
       "1          Chennai Super Kings           bat          Chennai Super Kings   \n",
       "2             Rajasthan Royals           bat             Delhi Daredevils   \n",
       "3               Mumbai Indians           bat  Royal Challengers Bangalore   \n",
       "4              Deccan Chargers           bat        Kolkata Knight Riders   \n",
       "\n",
       "    result  result_margin eliminator method    umpire1         umpire2  \n",
       "0     runs          140.0          N    NaN  Asad Rauf     RE Koertzen  \n",
       "1     runs           33.0          N    NaN  MR Benson      SL Shastri  \n",
       "2  wickets            9.0          N    NaN  Aleem Dar  GA Pratapkumar  \n",
       "3  wickets            5.0          N    NaN   SJ Davis       DJ Harper  \n",
       "4  wickets            5.0          N    NaN  BF Bowden     K Hariharan  "
      ]
     },
     "execution_count": 19,
     "metadata": {},
     "output_type": "execute_result"
    }
   ],
   "source": [
    "df = pd.read_csv(\"IPL Matches 2008-2020.csv\")\n",
    "df.head()"
   ]
  },
  {
   "cell_type": "code",
   "execution_count": 16,
   "id": "7f51a497",
   "metadata": {},
   "outputs": [],
   "source": [
    "def replace_team_names(team_name):\n",
    "    team_name = team_name.lower()\n",
    "    if \"royal challengers\" in team_name:\n",
    "        return \"RCB\"\n",
    "    elif \"chennai super kings\" in team_name:\n",
    "        return \"CSK\"\n",
    "    elif \"mumbai indians\" in team_name:\n",
    "        return \"MI\"\n",
    "    elif \"delhi capitals\" in team_name:\n",
    "        return \"DC\"\n",
    "    elif \"kolkata knight riders\" in team_name:\n",
    "        return \"KKR\"\n",
    "    elif \"sunrisers hyderabad\" in team_name:\n",
    "        return \"SRH\"\n",
    "    else:\n",
    "        return team_name"
   ]
  },
  {
   "cell_type": "code",
   "execution_count": 21,
   "id": "f0a66edd",
   "metadata": {},
   "outputs": [],
   "source": [
    "df_new = pd.read_csv(\"IPL Matches 2008-2020.csv\", converters={\n",
    "    \"team1\": replace_team_names,\"team2\": replace_team_names\n",
    "})"
   ]
  },
  {
   "cell_type": "code",
   "execution_count": 23,
   "id": "0b689ddc",
   "metadata": {},
   "outputs": [
    {
     "data": {
      "text/html": [
       "<div>\n",
       "<style scoped>\n",
       "    .dataframe tbody tr th:only-of-type {\n",
       "        vertical-align: middle;\n",
       "    }\n",
       "\n",
       "    .dataframe tbody tr th {\n",
       "        vertical-align: top;\n",
       "    }\n",
       "\n",
       "    .dataframe thead th {\n",
       "        text-align: right;\n",
       "    }\n",
       "</style>\n",
       "<table border=\"1\" class=\"dataframe\">\n",
       "  <thead>\n",
       "    <tr style=\"text-align: right;\">\n",
       "      <th></th>\n",
       "      <th>id</th>\n",
       "      <th>city</th>\n",
       "      <th>date</th>\n",
       "      <th>player_of_match</th>\n",
       "      <th>venue</th>\n",
       "      <th>neutral_venue</th>\n",
       "      <th>team1</th>\n",
       "      <th>team2</th>\n",
       "      <th>toss_winner</th>\n",
       "      <th>toss_decision</th>\n",
       "      <th>winner</th>\n",
       "      <th>result</th>\n",
       "      <th>result_margin</th>\n",
       "      <th>eliminator</th>\n",
       "      <th>method</th>\n",
       "      <th>umpire1</th>\n",
       "      <th>umpire2</th>\n",
       "    </tr>\n",
       "  </thead>\n",
       "  <tbody>\n",
       "    <tr>\n",
       "      <th>0</th>\n",
       "      <td>335982</td>\n",
       "      <td>Bangalore</td>\n",
       "      <td>2008-04-18</td>\n",
       "      <td>BB McCullum</td>\n",
       "      <td>M Chinnaswamy Stadium</td>\n",
       "      <td>0</td>\n",
       "      <td>RCB</td>\n",
       "      <td>KKR</td>\n",
       "      <td>Royal Challengers Bangalore</td>\n",
       "      <td>field</td>\n",
       "      <td>Kolkata Knight Riders</td>\n",
       "      <td>runs</td>\n",
       "      <td>140.0</td>\n",
       "      <td>N</td>\n",
       "      <td>NaN</td>\n",
       "      <td>Asad Rauf</td>\n",
       "      <td>RE Koertzen</td>\n",
       "    </tr>\n",
       "    <tr>\n",
       "      <th>1</th>\n",
       "      <td>335983</td>\n",
       "      <td>Chandigarh</td>\n",
       "      <td>2008-04-19</td>\n",
       "      <td>MEK Hussey</td>\n",
       "      <td>Punjab Cricket Association Stadium, Mohali</td>\n",
       "      <td>0</td>\n",
       "      <td>kings xi punjab</td>\n",
       "      <td>CSK</td>\n",
       "      <td>Chennai Super Kings</td>\n",
       "      <td>bat</td>\n",
       "      <td>Chennai Super Kings</td>\n",
       "      <td>runs</td>\n",
       "      <td>33.0</td>\n",
       "      <td>N</td>\n",
       "      <td>NaN</td>\n",
       "      <td>MR Benson</td>\n",
       "      <td>SL Shastri</td>\n",
       "    </tr>\n",
       "    <tr>\n",
       "      <th>2</th>\n",
       "      <td>335984</td>\n",
       "      <td>Delhi</td>\n",
       "      <td>2008-04-19</td>\n",
       "      <td>MF Maharoof</td>\n",
       "      <td>Feroz Shah Kotla</td>\n",
       "      <td>0</td>\n",
       "      <td>delhi daredevils</td>\n",
       "      <td>rajasthan royals</td>\n",
       "      <td>Rajasthan Royals</td>\n",
       "      <td>bat</td>\n",
       "      <td>Delhi Daredevils</td>\n",
       "      <td>wickets</td>\n",
       "      <td>9.0</td>\n",
       "      <td>N</td>\n",
       "      <td>NaN</td>\n",
       "      <td>Aleem Dar</td>\n",
       "      <td>GA Pratapkumar</td>\n",
       "    </tr>\n",
       "    <tr>\n",
       "      <th>3</th>\n",
       "      <td>335985</td>\n",
       "      <td>Mumbai</td>\n",
       "      <td>2008-04-20</td>\n",
       "      <td>MV Boucher</td>\n",
       "      <td>Wankhede Stadium</td>\n",
       "      <td>0</td>\n",
       "      <td>MI</td>\n",
       "      <td>RCB</td>\n",
       "      <td>Mumbai Indians</td>\n",
       "      <td>bat</td>\n",
       "      <td>Royal Challengers Bangalore</td>\n",
       "      <td>wickets</td>\n",
       "      <td>5.0</td>\n",
       "      <td>N</td>\n",
       "      <td>NaN</td>\n",
       "      <td>SJ Davis</td>\n",
       "      <td>DJ Harper</td>\n",
       "    </tr>\n",
       "    <tr>\n",
       "      <th>4</th>\n",
       "      <td>335986</td>\n",
       "      <td>Kolkata</td>\n",
       "      <td>2008-04-20</td>\n",
       "      <td>DJ Hussey</td>\n",
       "      <td>Eden Gardens</td>\n",
       "      <td>0</td>\n",
       "      <td>KKR</td>\n",
       "      <td>deccan chargers</td>\n",
       "      <td>Deccan Chargers</td>\n",
       "      <td>bat</td>\n",
       "      <td>Kolkata Knight Riders</td>\n",
       "      <td>wickets</td>\n",
       "      <td>5.0</td>\n",
       "      <td>N</td>\n",
       "      <td>NaN</td>\n",
       "      <td>BF Bowden</td>\n",
       "      <td>K Hariharan</td>\n",
       "    </tr>\n",
       "  </tbody>\n",
       "</table>\n",
       "</div>"
      ],
      "text/plain": [
       "       id        city        date player_of_match  \\\n",
       "0  335982   Bangalore  2008-04-18     BB McCullum   \n",
       "1  335983  Chandigarh  2008-04-19      MEK Hussey   \n",
       "2  335984       Delhi  2008-04-19     MF Maharoof   \n",
       "3  335985      Mumbai  2008-04-20      MV Boucher   \n",
       "4  335986     Kolkata  2008-04-20       DJ Hussey   \n",
       "\n",
       "                                        venue  neutral_venue  \\\n",
       "0                       M Chinnaswamy Stadium              0   \n",
       "1  Punjab Cricket Association Stadium, Mohali              0   \n",
       "2                            Feroz Shah Kotla              0   \n",
       "3                            Wankhede Stadium              0   \n",
       "4                                Eden Gardens              0   \n",
       "\n",
       "              team1             team2                  toss_winner  \\\n",
       "0               RCB               KKR  Royal Challengers Bangalore   \n",
       "1   kings xi punjab               CSK          Chennai Super Kings   \n",
       "2  delhi daredevils  rajasthan royals             Rajasthan Royals   \n",
       "3                MI               RCB               Mumbai Indians   \n",
       "4               KKR   deccan chargers              Deccan Chargers   \n",
       "\n",
       "  toss_decision                       winner   result  result_margin  \\\n",
       "0         field        Kolkata Knight Riders     runs          140.0   \n",
       "1           bat          Chennai Super Kings     runs           33.0   \n",
       "2           bat             Delhi Daredevils  wickets            9.0   \n",
       "3           bat  Royal Challengers Bangalore  wickets            5.0   \n",
       "4           bat        Kolkata Knight Riders  wickets            5.0   \n",
       "\n",
       "  eliminator method    umpire1         umpire2  \n",
       "0          N    NaN  Asad Rauf     RE Koertzen  \n",
       "1          N    NaN  MR Benson      SL Shastri  \n",
       "2          N    NaN  Aleem Dar  GA Pratapkumar  \n",
       "3          N    NaN   SJ Davis       DJ Harper  \n",
       "4          N    NaN  BF Bowden     K Hariharan  "
      ]
     },
     "execution_count": 23,
     "metadata": {},
     "output_type": "execute_result"
    }
   ],
   "source": [
    "df_new.head()"
   ]
  },
  {
   "cell_type": "markdown",
   "id": "6ea22b92",
   "metadata": {},
   "source": [
    "#### ✅ Method 14: If you get some bad values like $ % in the data, maybe in gender column"
   ]
  },
  {
   "cell_type": "code",
   "execution_count": 24,
   "id": "6277fb21",
   "metadata": {},
   "outputs": [],
   "source": [
    "# pd.read_csv(\"hello.csv\", na_values=[\"$\",\"%\"])"
   ]
  },
  {
   "cell_type": "markdown",
   "id": "e2ac7c82",
   "metadata": {},
   "source": [
    "#### ✅ Method 15: If the data is big and you want to divide it into chunks"
   ]
  },
  {
   "cell_type": "code",
   "execution_count": 31,
   "id": "3657e0ab",
   "metadata": {},
   "outputs": [],
   "source": [
    "df = pd.read_csv(\"IPL Matches 2008-2020.csv\", chunksize=10)"
   ]
  },
  {
   "cell_type": "code",
   "execution_count": 32,
   "id": "857c9e65",
   "metadata": {},
   "outputs": [
    {
     "name": "stdout",
     "output_type": "stream",
     "text": [
      "(16, 17)\n",
      "(16, 17)\n",
      "(16, 17)\n",
      "(16, 17)\n",
      "(16, 17)\n",
      "(16, 17)\n",
      "(16, 17)\n",
      "(16, 17)\n",
      "(16, 17)\n",
      "(16, 17)\n",
      "(16, 17)\n",
      "(16, 17)\n",
      "(16, 17)\n",
      "(16, 17)\n",
      "(16, 17)\n",
      "(16, 17)\n",
      "(16, 17)\n",
      "(16, 17)\n",
      "(16, 17)\n",
      "(16, 17)\n",
      "(16, 17)\n",
      "(16, 17)\n",
      "(16, 17)\n",
      "(16, 17)\n",
      "(16, 17)\n",
      "(16, 17)\n",
      "(16, 17)\n",
      "(16, 17)\n",
      "(16, 17)\n",
      "(16, 17)\n",
      "(16, 17)\n",
      "(16, 17)\n",
      "(16, 17)\n",
      "(16, 17)\n",
      "(16, 17)\n",
      "(16, 17)\n",
      "(16, 17)\n",
      "(16, 17)\n",
      "(16, 17)\n",
      "(16, 17)\n",
      "(16, 17)\n",
      "(16, 17)\n",
      "(16, 17)\n",
      "(16, 17)\n",
      "(16, 17)\n",
      "(16, 17)\n",
      "(16, 17)\n",
      "(16, 17)\n",
      "(16, 17)\n",
      "(16, 17)\n",
      "(16, 17)\n",
      "(16, 17)\n",
      "(16, 17)\n",
      "(16, 17)\n",
      "(16, 17)\n",
      "(16, 17)\n",
      "(16, 17)\n",
      "(16, 17)\n",
      "(16, 17)\n",
      "(16, 17)\n",
      "(16, 17)\n",
      "(16, 17)\n",
      "(16, 17)\n",
      "(16, 17)\n",
      "(16, 17)\n",
      "(16, 17)\n",
      "(16, 17)\n",
      "(16, 17)\n",
      "(16, 17)\n",
      "(16, 17)\n",
      "(16, 17)\n",
      "(16, 17)\n",
      "(16, 17)\n",
      "(16, 17)\n",
      "(16, 17)\n",
      "(16, 17)\n",
      "(16, 17)\n",
      "(16, 17)\n",
      "(16, 17)\n",
      "(16, 17)\n",
      "(16, 17)\n",
      "(16, 17)\n"
     ]
    }
   ],
   "source": [
    "for chunks in df:\n",
    "    print(chunk.shape)"
   ]
  },
  {
   "cell_type": "markdown",
   "id": "566dd0b0",
   "metadata": {},
   "source": [
    "### For JSON files"
   ]
  },
  {
   "cell_type": "code",
   "execution_count": 33,
   "id": "6c05abbe",
   "metadata": {},
   "outputs": [],
   "source": [
    "# pd.read_json(\"hello.json\")"
   ]
  },
  {
   "cell_type": "code",
   "execution_count": 34,
   "id": "120885e5",
   "metadata": {},
   "outputs": [],
   "source": [
    "# if data is in url\n",
    "# pd.read_json(\"https://example.com/data.json\")"
   ]
  },
  {
   "cell_type": "markdown",
   "id": "7034bb31",
   "metadata": {},
   "source": [
    "You can use most of the .csv methods in JSON"
   ]
  },
  {
   "cell_type": "markdown",
   "id": "95913702",
   "metadata": {},
   "source": [
    "#"
   ]
  }
 ],
 "metadata": {
  "kernelspec": {
   "display_name": "old-way",
   "language": "python",
   "name": "python3"
  },
  "language_info": {
   "codemirror_mode": {
    "name": "ipython",
    "version": 3
   },
   "file_extension": ".py",
   "mimetype": "text/x-python",
   "name": "python",
   "nbconvert_exporter": "python",
   "pygments_lexer": "ipython3",
   "version": "3.12.10"
  }
 },
 "nbformat": 4,
 "nbformat_minor": 5
}
