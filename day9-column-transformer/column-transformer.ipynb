{
 "cells": [
  {
   "cell_type": "markdown",
   "id": "a4f12c59",
   "metadata": {},
   "source": [
    "## 📦 ColumnTransformer \n",
    "ColumnTransformer lets you apply different preprocessing to different columns at once.\n",
    "\n",
    "### ✅ Why use it?\n",
    "- Useful when you have both numerical and categorical features.\n",
    "- Keeps your preprocessing clean, organized, and pipeline-ready.\n",
    "\n",
    "### 🛠️ Example Use Case:\n",
    "- Scale numeric columns (age, salary) with StandardScaler\n",
    "- One-hot encode categorical columns (gender) with OneHotEncoder"
   ]
  },
  {
   "cell_type": "code",
   "execution_count": 1,
   "id": "fe9ce580",
   "metadata": {},
   "outputs": [],
   "source": [
    "import numpy as np\n",
    "import pandas as pd"
   ]
  },
  {
   "cell_type": "code",
   "execution_count": 6,
   "id": "8e37cf04",
   "metadata": {},
   "outputs": [],
   "source": [
    "from sklearn.impute import SimpleImputer\n",
    "from sklearn.preprocessing import OrdinalEncoder, OneHotEncoder\n",
    "from sklearn.model_selection import train_test_split"
   ]
  },
  {
   "cell_type": "code",
   "execution_count": 4,
   "id": "a2c37cc3",
   "metadata": {},
   "outputs": [
    {
     "data": {
      "text/html": [
       "<div>\n",
       "<style scoped>\n",
       "    .dataframe tbody tr th:only-of-type {\n",
       "        vertical-align: middle;\n",
       "    }\n",
       "\n",
       "    .dataframe tbody tr th {\n",
       "        vertical-align: top;\n",
       "    }\n",
       "\n",
       "    .dataframe thead th {\n",
       "        text-align: right;\n",
       "    }\n",
       "</style>\n",
       "<table border=\"1\" class=\"dataframe\">\n",
       "  <thead>\n",
       "    <tr style=\"text-align: right;\">\n",
       "      <th></th>\n",
       "      <th>age</th>\n",
       "      <th>gender</th>\n",
       "      <th>fever</th>\n",
       "      <th>cough</th>\n",
       "      <th>city</th>\n",
       "      <th>has_covid</th>\n",
       "    </tr>\n",
       "  </thead>\n",
       "  <tbody>\n",
       "    <tr>\n",
       "      <th>0</th>\n",
       "      <td>60</td>\n",
       "      <td>Male</td>\n",
       "      <td>103.0</td>\n",
       "      <td>Mild</td>\n",
       "      <td>Kolkata</td>\n",
       "      <td>No</td>\n",
       "    </tr>\n",
       "    <tr>\n",
       "      <th>1</th>\n",
       "      <td>27</td>\n",
       "      <td>Male</td>\n",
       "      <td>100.0</td>\n",
       "      <td>Mild</td>\n",
       "      <td>Delhi</td>\n",
       "      <td>Yes</td>\n",
       "    </tr>\n",
       "    <tr>\n",
       "      <th>2</th>\n",
       "      <td>42</td>\n",
       "      <td>Male</td>\n",
       "      <td>101.0</td>\n",
       "      <td>Mild</td>\n",
       "      <td>Delhi</td>\n",
       "      <td>No</td>\n",
       "    </tr>\n",
       "    <tr>\n",
       "      <th>3</th>\n",
       "      <td>31</td>\n",
       "      <td>Female</td>\n",
       "      <td>98.0</td>\n",
       "      <td>Mild</td>\n",
       "      <td>Kolkata</td>\n",
       "      <td>No</td>\n",
       "    </tr>\n",
       "    <tr>\n",
       "      <th>4</th>\n",
       "      <td>65</td>\n",
       "      <td>Female</td>\n",
       "      <td>101.0</td>\n",
       "      <td>Mild</td>\n",
       "      <td>Mumbai</td>\n",
       "      <td>No</td>\n",
       "    </tr>\n",
       "  </tbody>\n",
       "</table>\n",
       "</div>"
      ],
      "text/plain": [
       "   age  gender  fever cough     city has_covid\n",
       "0   60    Male  103.0  Mild  Kolkata        No\n",
       "1   27    Male  100.0  Mild    Delhi       Yes\n",
       "2   42    Male  101.0  Mild    Delhi        No\n",
       "3   31  Female   98.0  Mild  Kolkata        No\n",
       "4   65  Female  101.0  Mild   Mumbai        No"
      ]
     },
     "execution_count": 4,
     "metadata": {},
     "output_type": "execute_result"
    }
   ],
   "source": [
    "df = pd.read_csv(\"covid_toy.csv\")\n",
    "df.head()"
   ]
  },
  {
   "cell_type": "code",
   "execution_count": 9,
   "id": "a7ce7de5",
   "metadata": {},
   "outputs": [
    {
     "name": "stdout",
     "output_type": "stream",
     "text": [
      "<class 'pandas.core.frame.DataFrame'>\n",
      "RangeIndex: 100 entries, 0 to 99\n",
      "Data columns (total 6 columns):\n",
      " #   Column     Non-Null Count  Dtype  \n",
      "---  ------     --------------  -----  \n",
      " 0   age        100 non-null    int64  \n",
      " 1   gender     100 non-null    object \n",
      " 2   fever      90 non-null     float64\n",
      " 3   cough      100 non-null    object \n",
      " 4   city       100 non-null    object \n",
      " 5   has_covid  100 non-null    object \n",
      "dtypes: float64(1), int64(1), object(4)\n",
      "memory usage: 4.8+ KB\n"
     ]
    }
   ],
   "source": [
    "df.info()"
   ]
  },
  {
   "cell_type": "code",
   "execution_count": 7,
   "id": "aa4f3080",
   "metadata": {},
   "outputs": [],
   "source": [
    "X_train, X_test, y_train, y_test = train_test_split(df.drop(columns=['has_covid']), df['has_covid'], test_size=0.2)"
   ]
  },
  {
   "cell_type": "code",
   "execution_count": 8,
   "id": "e09ba76f",
   "metadata": {},
   "outputs": [
    {
     "data": {
      "text/html": [
       "<div>\n",
       "<style scoped>\n",
       "    .dataframe tbody tr th:only-of-type {\n",
       "        vertical-align: middle;\n",
       "    }\n",
       "\n",
       "    .dataframe tbody tr th {\n",
       "        vertical-align: top;\n",
       "    }\n",
       "\n",
       "    .dataframe thead th {\n",
       "        text-align: right;\n",
       "    }\n",
       "</style>\n",
       "<table border=\"1\" class=\"dataframe\">\n",
       "  <thead>\n",
       "    <tr style=\"text-align: right;\">\n",
       "      <th></th>\n",
       "      <th>age</th>\n",
       "      <th>gender</th>\n",
       "      <th>fever</th>\n",
       "      <th>cough</th>\n",
       "      <th>city</th>\n",
       "    </tr>\n",
       "  </thead>\n",
       "  <tbody>\n",
       "    <tr>\n",
       "      <th>96</th>\n",
       "      <td>51</td>\n",
       "      <td>Female</td>\n",
       "      <td>101.0</td>\n",
       "      <td>Strong</td>\n",
       "      <td>Kolkata</td>\n",
       "    </tr>\n",
       "    <tr>\n",
       "      <th>55</th>\n",
       "      <td>81</td>\n",
       "      <td>Female</td>\n",
       "      <td>101.0</td>\n",
       "      <td>Mild</td>\n",
       "      <td>Mumbai</td>\n",
       "    </tr>\n",
       "    <tr>\n",
       "      <th>34</th>\n",
       "      <td>74</td>\n",
       "      <td>Male</td>\n",
       "      <td>102.0</td>\n",
       "      <td>Mild</td>\n",
       "      <td>Mumbai</td>\n",
       "    </tr>\n",
       "    <tr>\n",
       "      <th>69</th>\n",
       "      <td>73</td>\n",
       "      <td>Female</td>\n",
       "      <td>103.0</td>\n",
       "      <td>Mild</td>\n",
       "      <td>Delhi</td>\n",
       "    </tr>\n",
       "    <tr>\n",
       "      <th>92</th>\n",
       "      <td>82</td>\n",
       "      <td>Female</td>\n",
       "      <td>102.0</td>\n",
       "      <td>Strong</td>\n",
       "      <td>Kolkata</td>\n",
       "    </tr>\n",
       "  </tbody>\n",
       "</table>\n",
       "</div>"
      ],
      "text/plain": [
       "    age  gender  fever   cough     city\n",
       "96   51  Female  101.0  Strong  Kolkata\n",
       "55   81  Female  101.0    Mild   Mumbai\n",
       "34   74    Male  102.0    Mild   Mumbai\n",
       "69   73  Female  103.0    Mild    Delhi\n",
       "92   82  Female  102.0  Strong  Kolkata"
      ]
     },
     "execution_count": 8,
     "metadata": {},
     "output_type": "execute_result"
    }
   ],
   "source": [
    "X_train.head()"
   ]
  },
  {
   "cell_type": "code",
   "execution_count": 12,
   "id": "7faf53bf",
   "metadata": {},
   "outputs": [
    {
     "data": {
      "text/plain": [
       "array(['Strong', 'Mild'], dtype=object)"
      ]
     },
     "execution_count": 12,
     "metadata": {},
     "output_type": "execute_result"
    }
   ],
   "source": [
    "X_train['cough'].unique()"
   ]
  },
  {
   "cell_type": "markdown",
   "id": "9dfee84e",
   "metadata": {},
   "source": [
    "### 🥺 Without Column Transformer"
   ]
  },
  {
   "cell_type": "code",
   "execution_count": 13,
   "id": "f859ac33",
   "metadata": {},
   "outputs": [
    {
     "data": {
      "text/plain": [
       "((80, 1), (20, 1))"
      ]
     },
     "execution_count": 13,
     "metadata": {},
     "output_type": "execute_result"
    }
   ],
   "source": [
    "# add simple imputer to fever column\n",
    "si = SimpleImputer()\n",
    "\n",
    "X_train_fever = si.fit_transform(X_train[['fever']])\n",
    "X_test_fever = si.transform(X_test[['fever']])\n",
    "\n",
    "X_train_fever.shape, X_test_fever.shape"
   ]
  },
  {
   "cell_type": "code",
   "execution_count": 14,
   "id": "2b3dc246",
   "metadata": {},
   "outputs": [
    {
     "data": {
      "text/plain": [
       "((80, 1), (20, 1))"
      ]
     },
     "execution_count": 14,
     "metadata": {},
     "output_type": "execute_result"
    }
   ],
   "source": [
    "# ordinal encoder for cough column\n",
    "oe = OrdinalEncoder(categories=[['Mild', 'Strong']]) # less will be first\n",
    "\n",
    "X_train_cough = oe.fit_transform(X_train[['cough']])\n",
    "X_test_cough = oe.transform(X_test[['cough']])\n",
    "\n",
    "X_train_cough.shape, X_test_cough.shape"
   ]
  },
  {
   "cell_type": "code",
   "execution_count": 17,
   "id": "26614ff4",
   "metadata": {},
   "outputs": [
    {
     "data": {
      "text/plain": [
       "(80, 4)"
      ]
     },
     "execution_count": 17,
     "metadata": {},
     "output_type": "execute_result"
    }
   ],
   "source": [
    "# oneHotEncoder for gender and city columns\n",
    "ohe = OneHotEncoder(drop='first', sparse_output=False)\n",
    "\n",
    "X_train_gender_city = ohe.fit_transform(X_train[['gender', 'city']])\n",
    "X_test_gender_city = ohe.fit_transform(X_test[['gender', 'city']])\n",
    "\n",
    "X_train_gender_city.shape"
   ]
  },
  {
   "cell_type": "code",
   "execution_count": 19,
   "id": "9a5b7621",
   "metadata": {},
   "outputs": [
    {
     "data": {
      "text/plain": [
       "((80, 1), (20, 1))"
      ]
     },
     "execution_count": 19,
     "metadata": {},
     "output_type": "execute_result"
    }
   ],
   "source": [
    "# extract age\n",
    "X_train_age = X_train[['age']].values\n",
    "X_test_age = X_test[['age']].values\n",
    "\n",
    "X_train_age.shape, X_test_age.shape"
   ]
  },
  {
   "cell_type": "code",
   "execution_count": 21,
   "id": "5defcad6",
   "metadata": {},
   "outputs": [],
   "source": [
    "X_train_transformed = np.hstack((X_train_fever, X_train_cough, X_train_age, X_train_gender_city))\n",
    "X_test_transformed = np.hstack((X_test_fever, X_test_cough, X_test_age, X_test_gender_city))"
   ]
  },
  {
   "cell_type": "code",
   "execution_count": 24,
   "id": "e0b45854",
   "metadata": {},
   "outputs": [
    {
     "data": {
      "text/plain": [
       "(80, 7)"
      ]
     },
     "execution_count": 24,
     "metadata": {},
     "output_type": "execute_result"
    }
   ],
   "source": [
    "X_train_transformed.shape"
   ]
  },
  {
   "cell_type": "markdown",
   "id": "01a3b837",
   "metadata": {},
   "source": [
    "### 😁 With Column Transformer"
   ]
  },
  {
   "cell_type": "code",
   "execution_count": 25,
   "id": "3e01de5d",
   "metadata": {},
   "outputs": [],
   "source": [
    "from sklearn.compose import ColumnTransformer"
   ]
  },
  {
   "cell_type": "code",
   "execution_count": 34,
   "id": "4d4a9a58",
   "metadata": {},
   "outputs": [],
   "source": [
    "transformer = ColumnTransformer(\n",
    "    transformers=[\n",
    "('tnf1', SimpleImputer(), ['fever']),\n",
    "('tnf2', OrdinalEncoder(categories=[['Mild', 'Strong']]), [\"cough\"]),\n",
    "('tnf3', OneHotEncoder(drop='first', sparse_output=False ), ['gender', 'city']),\n",
    "    ], remainder='passthrough'\n",
    ")"
   ]
  },
  {
   "cell_type": "code",
   "execution_count": 38,
   "id": "6e1242be",
   "metadata": {},
   "outputs": [
    {
     "data": {
      "text/plain": [
       "array([[104.       ,   0.       ,   0.       ,   0.       ,   0.       ,\n",
       "          0.       ,  12.       ],\n",
       "       [104.       ,   0.       ,   1.       ,   0.       ,   0.       ,\n",
       "          0.       ,  25.       ],\n",
       "       [100.       ,   1.       ,   0.       ,   0.       ,   0.       ,\n",
       "          0.       ,  47.       ],\n",
       "       [104.       ,   0.       ,   1.       ,   0.       ,   1.       ,\n",
       "          0.       ,  16.       ],\n",
       "       [102.       ,   1.       ,   0.       ,   0.       ,   0.       ,\n",
       "          0.       ,  24.       ],\n",
       "       [104.       ,   0.       ,   0.       ,   0.       ,   1.       ,\n",
       "          0.       ,  17.       ],\n",
       "       [ 98.       ,   1.       ,   1.       ,   0.       ,   1.       ,\n",
       "          0.       ,  34.       ],\n",
       "       [100.       ,   0.       ,   1.       ,   0.       ,   0.       ,\n",
       "          0.       ,  80.       ],\n",
       "       [100.8028169,   0.       ,   1.       ,   0.       ,   1.       ,\n",
       "          0.       ,  82.       ],\n",
       "       [102.       ,   0.       ,   1.       ,   0.       ,   1.       ,\n",
       "          0.       ,   5.       ],\n",
       "       [100.       ,   0.       ,   1.       ,   0.       ,   1.       ,\n",
       "          0.       ,  27.       ],\n",
       "       [ 99.       ,   1.       ,   0.       ,   1.       ,   0.       ,\n",
       "          0.       ,  59.       ],\n",
       "       [100.       ,   1.       ,   0.       ,   0.       ,   1.       ,\n",
       "          0.       ,  13.       ],\n",
       "       [101.       ,   1.       ,   0.       ,   1.       ,   0.       ,\n",
       "          0.       ,  68.       ],\n",
       "       [104.       ,   0.       ,   0.       ,   0.       ,   1.       ,\n",
       "          0.       ,   6.       ],\n",
       "       [ 98.       ,   0.       ,   0.       ,   0.       ,   0.       ,\n",
       "          1.       ,  65.       ],\n",
       "       [ 98.       ,   0.       ,   0.       ,   0.       ,   1.       ,\n",
       "          0.       ,  26.       ],\n",
       "       [102.       ,   0.       ,   1.       ,   0.       ,   0.       ,\n",
       "          0.       ,  64.       ],\n",
       "       [101.       ,   0.       ,   0.       ,   0.       ,   1.       ,\n",
       "          0.       ,   8.       ],\n",
       "       [ 98.       ,   1.       ,   0.       ,   0.       ,   0.       ,\n",
       "          1.       ,  69.       ]])"
      ]
     },
     "execution_count": 38,
     "metadata": {},
     "output_type": "execute_result"
    }
   ],
   "source": [
    "transformer.fit_transform(X_train)\n",
    "transformer.transform(X_test)"
   ]
  },
  {
   "cell_type": "code",
   "execution_count": null,
   "id": "d6b76ec6",
   "metadata": {},
   "outputs": [],
   "source": []
  }
 ],
 "metadata": {
  "kernelspec": {
   "display_name": "old-way",
   "language": "python",
   "name": "python3"
  },
  "language_info": {
   "codemirror_mode": {
    "name": "ipython",
    "version": 3
   },
   "file_extension": ".py",
   "mimetype": "text/x-python",
   "name": "python",
   "nbconvert_exporter": "python",
   "pygments_lexer": "ipython3",
   "version": "3.12.10"
  }
 },
 "nbformat": 4,
 "nbformat_minor": 5
}
