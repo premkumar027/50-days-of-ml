{
 "cells": [
  {
   "cell_type": "code",
   "execution_count": 2,
   "id": "ebc08541",
   "metadata": {},
   "outputs": [],
   "source": [
    "import numpy as np\n",
    "import pandas as pd\n",
    "import matplotlib.pyplot as plt\n",
    "import seaborn as sns"
   ]
  },
  {
   "cell_type": "code",
   "execution_count": 3,
   "id": "99507a99",
   "metadata": {},
   "outputs": [],
   "source": [
    "import opendatasets as od"
   ]
  },
  {
   "cell_type": "code",
   "execution_count": 9,
   "id": "08bb07cb",
   "metadata": {},
   "outputs": [
    {
     "name": "stdout",
     "output_type": "stream",
     "text": [
      "Skipping, found downloaded files in \".\\sneakers-and-streetwear-sales-2022\" (use force=True to force download)\n"
     ]
    }
   ],
   "source": [
    "od.download(\"https://www.kaggle.com/datasets/atharvasoundankar/sneakers-and-streetwear-sales-2022\")"
   ]
  },
  {
   "cell_type": "code",
   "execution_count": 12,
   "id": "05418c21",
   "metadata": {},
   "outputs": [],
   "source": [
    "df = pd.read_csv(\"sneakers_streetwear_sales_data.csv\")"
   ]
  },
  {
   "cell_type": "code",
   "execution_count": 13,
   "id": "02972a6c",
   "metadata": {},
   "outputs": [
    {
     "data": {
      "text/html": [
       "<div>\n",
       "<style scoped>\n",
       "    .dataframe tbody tr th:only-of-type {\n",
       "        vertical-align: middle;\n",
       "    }\n",
       "\n",
       "    .dataframe tbody tr th {\n",
       "        vertical-align: top;\n",
       "    }\n",
       "\n",
       "    .dataframe thead th {\n",
       "        text-align: right;\n",
       "    }\n",
       "</style>\n",
       "<table border=\"1\" class=\"dataframe\">\n",
       "  <thead>\n",
       "    <tr style=\"text-align: right;\">\n",
       "      <th></th>\n",
       "      <th>Date</th>\n",
       "      <th>Product Name</th>\n",
       "      <th>Product Type</th>\n",
       "      <th>Brand</th>\n",
       "      <th>Gender</th>\n",
       "      <th>Category</th>\n",
       "      <th>Country</th>\n",
       "      <th>Quantity</th>\n",
       "      <th>Unit Price ($)</th>\n",
       "      <th>Amount ($)</th>\n",
       "      <th>Payment Mode</th>\n",
       "    </tr>\n",
       "  </thead>\n",
       "  <tbody>\n",
       "    <tr>\n",
       "      <th>137</th>\n",
       "      <td>2022-06-24</td>\n",
       "      <td>Nike Tech Fleece</td>\n",
       "      <td>Hoodie</td>\n",
       "      <td>Nike</td>\n",
       "      <td>Women</td>\n",
       "      <td>Streetwear</td>\n",
       "      <td>India</td>\n",
       "      <td>5</td>\n",
       "      <td>58.37</td>\n",
       "      <td>291.85</td>\n",
       "      <td>UPI</td>\n",
       "    </tr>\n",
       "    <tr>\n",
       "      <th>235</th>\n",
       "      <td>2022-06-02</td>\n",
       "      <td>Off-White Hoodie</td>\n",
       "      <td>Hoodie</td>\n",
       "      <td>Off-White</td>\n",
       "      <td>Women</td>\n",
       "      <td>Casual</td>\n",
       "      <td>Canada</td>\n",
       "      <td>3</td>\n",
       "      <td>296.55</td>\n",
       "      <td>889.65</td>\n",
       "      <td>Card</td>\n",
       "    </tr>\n",
       "    <tr>\n",
       "      <th>218</th>\n",
       "      <td>2022-05-27</td>\n",
       "      <td>Adidas Ultraboost</td>\n",
       "      <td>Sneakers</td>\n",
       "      <td>Adidas</td>\n",
       "      <td>Women</td>\n",
       "      <td>Sportswear</td>\n",
       "      <td>UK</td>\n",
       "      <td>5</td>\n",
       "      <td>135.50</td>\n",
       "      <td>677.50</td>\n",
       "      <td>UPI</td>\n",
       "    </tr>\n",
       "    <tr>\n",
       "      <th>185</th>\n",
       "      <td>2022-07-27</td>\n",
       "      <td>Jordan 1 High</td>\n",
       "      <td>Sneakers</td>\n",
       "      <td>Nike</td>\n",
       "      <td>Men</td>\n",
       "      <td>Limited Edition</td>\n",
       "      <td>India</td>\n",
       "      <td>5</td>\n",
       "      <td>291.70</td>\n",
       "      <td>1458.50</td>\n",
       "      <td>Wallet</td>\n",
       "    </tr>\n",
       "    <tr>\n",
       "      <th>12</th>\n",
       "      <td>2022-08-26</td>\n",
       "      <td>Nike Dunk Low</td>\n",
       "      <td>Sneakers</td>\n",
       "      <td>Nike</td>\n",
       "      <td>Women</td>\n",
       "      <td>Casual</td>\n",
       "      <td>Germany</td>\n",
       "      <td>3</td>\n",
       "      <td>295.75</td>\n",
       "      <td>887.25</td>\n",
       "      <td>Card</td>\n",
       "    </tr>\n",
       "  </tbody>\n",
       "</table>\n",
       "</div>"
      ],
      "text/plain": [
       "           Date       Product Name Product Type      Brand Gender  \\\n",
       "137  2022-06-24   Nike Tech Fleece       Hoodie       Nike  Women   \n",
       "235  2022-06-02   Off-White Hoodie       Hoodie  Off-White  Women   \n",
       "218  2022-05-27  Adidas Ultraboost     Sneakers     Adidas  Women   \n",
       "185  2022-07-27      Jordan 1 High     Sneakers       Nike    Men   \n",
       "12   2022-08-26      Nike Dunk Low     Sneakers       Nike  Women   \n",
       "\n",
       "            Category  Country  Quantity  Unit Price ($)  Amount ($)  \\\n",
       "137       Streetwear    India         5           58.37      291.85   \n",
       "235           Casual   Canada         3          296.55      889.65   \n",
       "218       Sportswear       UK         5          135.50      677.50   \n",
       "185  Limited Edition    India         5          291.70     1458.50   \n",
       "12            Casual  Germany         3          295.75      887.25   \n",
       "\n",
       "    Payment Mode  \n",
       "137          UPI  \n",
       "235         Card  \n",
       "218          UPI  \n",
       "185       Wallet  \n",
       "12          Card  "
      ]
     },
     "execution_count": 13,
     "metadata": {},
     "output_type": "execute_result"
    }
   ],
   "source": [
    "df.sample(5)"
   ]
  },
  {
   "cell_type": "code",
   "execution_count": null,
   "id": "ebe4e78b",
   "metadata": {},
   "outputs": [],
   "source": []
  }
 ],
 "metadata": {
  "kernelspec": {
   "display_name": "old-way",
   "language": "python",
   "name": "python3"
  },
  "language_info": {
   "codemirror_mode": {
    "name": "ipython",
    "version": 3
   },
   "file_extension": ".py",
   "mimetype": "text/x-python",
   "name": "python",
   "nbconvert_exporter": "python",
   "pygments_lexer": "ipython3",
   "version": "3.12.10"
  }
 },
 "nbformat": 4,
 "nbformat_minor": 5
}
