{
 "cells": [
  {
   "cell_type": "markdown",
   "id": "7dbbb2a7",
   "metadata": {},
   "source": [
    "## 🔍 Exploratory Data Analysis (EDA) Tools for Pandas"
   ]
  },
  {
   "cell_type": "markdown",
   "id": "431e75c0",
   "metadata": {},
   "source": [
    "### 📋 1. Pandas Profiling (ydata-profiling)"
   ]
  },
  {
   "cell_type": "code",
   "execution_count": 6,
   "id": "2f15f46e",
   "metadata": {},
   "outputs": [],
   "source": [
    "# import pandas as pd\n",
    "# from ydata_profiling import ProfileReport"
   ]
  },
  {
   "cell_type": "code",
   "execution_count": 7,
   "id": "c0e5dce7",
   "metadata": {},
   "outputs": [],
   "source": [
    "# df = pd.read_csv('train.csv')"
   ]
  },
  {
   "cell_type": "code",
   "execution_count": 8,
   "id": "05dbe37d",
   "metadata": {},
   "outputs": [],
   "source": [
    "# # uv add y-data-profiling\n",
    "# profile = ProfileReport(df, title=\"Pandas Profiling Report\", explorative=True)\n",
    "# profile.to_file(\"output.html\")"
   ]
  },
  {
   "cell_type": "code",
   "execution_count": 9,
   "id": "380a18c1",
   "metadata": {},
   "outputs": [],
   "source": [
    "# this does not work with the current version of numpy and seaborn"
   ]
  },
  {
   "cell_type": "markdown",
   "id": "1f0b5437",
   "metadata": {},
   "source": [
    "### 🧁 2. Sweetviz"
   ]
  },
  {
   "cell_type": "code",
   "execution_count": 17,
   "id": "f0934f8b",
   "metadata": {},
   "outputs": [],
   "source": [
    "# import sweetviz as sv\n",
    "# import numpy as np\n",
    "# import pandas as pd"
   ]
  },
  {
   "cell_type": "code",
   "execution_count": 18,
   "id": "0e803073",
   "metadata": {},
   "outputs": [],
   "source": [
    "# df = pd.read_csv('train.csv')"
   ]
  },
  {
   "cell_type": "code",
   "execution_count": 19,
   "id": "a3c2a34b",
   "metadata": {},
   "outputs": [],
   "source": [
    "# report = sv.analyze(df)\n",
    "# report.show_html('sweetviz_report.html')"
   ]
  },
  {
   "cell_type": "code",
   "execution_count": 20,
   "id": "811c9336",
   "metadata": {},
   "outputs": [],
   "source": [
    "# this also did not work because it is asking numpy 1.23.5 or lower"
   ]
  },
  {
   "cell_type": "markdown",
   "id": "7d0e08a6",
   "metadata": {},
   "source": [
    "### 🧠 3. D-Tale"
   ]
  },
  {
   "cell_type": "code",
   "execution_count": 21,
   "id": "0bdcc118",
   "metadata": {},
   "outputs": [],
   "source": [
    "import dtale"
   ]
  },
  {
   "cell_type": "code",
   "execution_count": 22,
   "id": "26ddd868",
   "metadata": {},
   "outputs": [],
   "source": [
    "df = pd.read_csv('train.csv')"
   ]
  },
  {
   "cell_type": "code",
   "execution_count": 24,
   "id": "96074600",
   "metadata": {},
   "outputs": [
    {
     "data": {
      "text/html": [
       "\n",
       "        <iframe\n",
       "            width=\"100%\"\n",
       "            height=\"475\"\n",
       "            src=\"http://Jarvis:40000/dtale/iframe/2\"\n",
       "            frameborder=\"0\"\n",
       "            allowfullscreen\n",
       "            \n",
       "        ></iframe>\n",
       "        "
      ],
      "text/plain": [
       "<IPython.lib.display.IFrame at 0x1f0680bef60>"
      ]
     },
     "metadata": {},
     "output_type": "display_data"
    },
    {
     "data": {
      "text/plain": []
     },
     "execution_count": 24,
     "metadata": {},
     "output_type": "execute_result"
    }
   ],
   "source": [
    "dtale.show(df)"
   ]
  },
  {
   "cell_type": "markdown",
   "id": "52620731",
   "metadata": {},
   "source": [
    "\n",
    "\n",
    "#### ✅ Key Features of D-Tale:\n",
    "\n",
    "- 🔍 View and explore pandas DataFrames in a browser\n",
    "- 🔤 Sort, filter, and edit data like in Excel\n",
    "- 📊 Built-in visualizations (histogram, scatter, boxplot, etc.)\n",
    "- 📋 Descriptive statistics summary\n",
    "- 🧹 Data cleaning tools (drop NA, change types, rename columns)\n",
    "- 🔎 Custom query support (like SQL filters)\n",
    "- 📁 Export cleaned/modified data to CSV or Excel\n",
    "- 🧪 Works well even with large datasets\n",
    "- ⚡ Launches instantly with a single command\n",
    "\n",
    "\n"
   ]
  },
  {
   "cell_type": "markdown",
   "id": "345d3931",
   "metadata": {},
   "source": []
  }
 ],
 "metadata": {
  "kernelspec": {
   "display_name": "old-way",
   "language": "python",
   "name": "python3"
  },
  "language_info": {
   "codemirror_mode": {
    "name": "ipython",
    "version": 3
   },
   "file_extension": ".py",
   "mimetype": "text/x-python",
   "name": "python",
   "nbconvert_exporter": "python",
   "pygments_lexer": "ipython3",
   "version": "3.12.10"
  }
 },
 "nbformat": 4,
 "nbformat_minor": 5
}
