{
 "cells": [
  {
   "cell_type": "markdown",
   "id": "11773080",
   "metadata": {},
   "source": [
    "I was at IAESTE National Comittee meeting, so I had to skip this \n",
    "\n",
    "But, this is a good topic, I will study it later"
   ]
  },
  {
   "cell_type": "markdown",
   "id": "de585fdd",
   "metadata": {},
   "source": []
  }
 ],
 "metadata": {
  "language_info": {
   "name": "python"
  }
 },
 "nbformat": 4,
 "nbformat_minor": 5
}
